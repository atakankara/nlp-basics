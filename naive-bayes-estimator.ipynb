{
 "cells": [
  {
   "attachments": {},
   "cell_type": "markdown",
   "id": "a49f2243",
   "metadata": {},
   "source": [
    "# Naive Bayes Estimator for Sentiment Analysis\n",
    "\n",
    "Implementation of a sentiment analysis system based on the “Large Movie Review Dataset”. Each text is classified into either “positive” or “negative”. The dataset is available at http://ai.stanford.edu/~amaas/data/sentiment/."
   ]
  },
  {
   "cell_type": "code",
   "execution_count": 2,
   "id": "5d70d1bf",
   "metadata": {},
   "outputs": [],
   "source": [
    "#Removes stop words that exist in the given array.\n",
    "function remove_stop_words(text)\n",
    "    for stop_word in stop_words\n",
    "        text = replace(text, stop_word => \" \")\n",
    "    end\n",
    "    text\n",
    "end\n",
    "\n",
    "stop_words = [\" a \", \" the \", \" i \", \" an \", \" on \", \" it \", \n",
    "              \" as \", \" in \", \" is \", \" that \", \" he \", \" she \", \n",
    "                \" at \", \" my \", \" me \", \" to \", \"i'm\",\n",
    "                \" there \", \" you \", \" his \", \" her \", \" their \", \n",
    "                \" him \", \" of \", \" and \", \" has \", \" are \" , \" by \",\n",
    "                \" will \", \" with \"];"
   ]
  },
  {
   "cell_type": "code",
   "execution_count": 3,
   "id": "6d3e9c9e",
   "metadata": {},
   "outputs": [
    {
     "data": {
      "text/plain": [
       "preprocess (generic function with 1 method)"
      ]
     },
     "execution_count": 3,
     "metadata": {},
     "output_type": "execute_result"
    }
   ],
   "source": [
    "function preprocess(text)\n",
    "    text = lowercase(text)\n",
    "    text = replace(text, r\"\\d+\" => \" \") #Removes digits.\n",
    "    text = replace(text, r\"<[^>]*>\" => \" \") #Removes html tags\n",
    "    text = replace(text, r\"[.,\\\\\\\".:!()<>/?*;\\-'&]\" => \" \") #Removes punctuations\n",
    "    text = remove_stop_words(text) #Removes stop words\n",
    "    #Removes single letters followed by spaces. This was needed due to punctuation removal.\n",
    "    #For example, `i'm` will be converted to `i m` which does not contribute to the classification task.\n",
    "    text = replace(text, r\"\\s[a-zA-Z]\\s\" => \" \") \n",
    "    return text\n",
    "end"
   ]
  },
  {
   "cell_type": "code",
   "execution_count": 4,
   "id": "0a13352e",
   "metadata": {},
   "outputs": [
    {
     "data": {
      "text/plain": [
       "get_n_grams (generic function with 1 method)"
      ]
     },
     "execution_count": 4,
     "metadata": {},
     "output_type": "execute_result"
    }
   ],
   "source": [
    "function get_n_grams(words, n)\n",
    "    \"\"\"Given a list of words and a positive integer n, returns a vector of n-grams extracted from the given list.\"\"\"\n",
    "    n_grams = Vector{}()\n",
    "\n",
    "    for i in 1:(length(words) - n + 1)\n",
    "        push!(n_grams, join(words[i:i+n-1], \" \"))\n",
    "    end\n",
    "    n_grams\n",
    "end   "
   ]
  },
  {
   "cell_type": "code",
   "execution_count": 5,
   "id": "228c7dd9",
   "metadata": {},
   "outputs": [
    {
     "data": {
      "text/plain": [
       "1"
      ]
     },
     "execution_count": 5,
     "metadata": {},
     "output_type": "execute_result"
    }
   ],
   "source": [
    "wdict = Dict()\n",
    "w2i(x) = get!(wdict, x, 1+length(wdict)) #Insert a new index for unseen grams.\n",
    "UNK = w2i(\"<unk>\")"
   ]
  },
  {
   "cell_type": "code",
   "execution_count": 6,
   "id": "4353881e",
   "metadata": {},
   "outputs": [
    {
     "data": {
      "text/plain": [
       "3"
      ]
     },
     "execution_count": 6,
     "metadata": {},
     "output_type": "execute_result"
    }
   ],
   "source": [
    "n = 3 #n-gram length to use."
   ]
  },
  {
   "cell_type": "code",
   "execution_count": 7,
   "id": "b96bf03b",
   "metadata": {},
   "outputs": [],
   "source": [
    "#Read positive training samples.\n",
    "positive_samples = Vector{}() \n",
    "\n",
    "for file in readdir(\".\\\\aclImdb_v1\\\\aclImdb\\\\train\\\\pos\"; join=true)\n",
    "    open(file) do f\n",
    "        text = readline(f)\n",
    "        text = preprocess(text)\n",
    "        text = split(text, \" \")\n",
    "        text = filter((i) -> i != \"\", text)\n",
    "        text = get_n_grams(text, 3)\n",
    "        word_ids = w2i.(text)\n",
    "        push!(positive_samples, word_ids)\n",
    "    end\n",
    "end"
   ]
  },
  {
   "cell_type": "code",
   "execution_count": 8,
   "id": "6e1c0798",
   "metadata": {},
   "outputs": [],
   "source": [
    "#Read negative training samples.\n",
    "negative_samples = Vector{}()\n",
    "\n",
    "for file in readdir(\".\\\\aclImdb_v1\\\\aclImdb\\\\train\\\\neg\"; join=true)\n",
    "    open(file) do f\n",
    "        text = readline(f)\n",
    "        text = preprocess(text)\n",
    "        text = split(text, \" \")\n",
    "        text = filter((i) -> i != \"\", text)\n",
    "        text = get_n_grams(text, 3)\n",
    "        word_ids = w2i.(text)\n",
    "        push!(negative_samples, word_ids)\n",
    "#         println(text)\n",
    "    end\n",
    "end"
   ]
  },
  {
   "cell_type": "code",
   "execution_count": 9,
   "id": "cffe6874",
   "metadata": {},
   "outputs": [
    {
     "data": {
      "text/plain": [
       "w2i (generic function with 1 method)"
      ]
     },
     "execution_count": 9,
     "metadata": {},
     "output_type": "execute_result"
    }
   ],
   "source": [
    "w2i(x) = get(wdict, x, UNK) # unk if not found"
   ]
  },
  {
   "cell_type": "code",
   "execution_count": 10,
   "id": "eb7814c6",
   "metadata": {},
   "outputs": [],
   "source": [
    "#Read positive test samples.\n",
    "positive_test_samples = Vector{}()\n",
    "\n",
    "for file in readdir(\".\\\\aclImdb_v1\\\\aclImdb\\\\test\\\\pos\"; join=true)\n",
    "    open(file) do f\n",
    "        text = readline(f)\n",
    "        text = preprocess(text)\n",
    "        text = split(text, \" \")\n",
    "        text = filter((i) -> i != \"\", text)\n",
    "        text = get_n_grams(text, 3)\n",
    "        word_ids = w2i.(text)\n",
    "        push!(positive_test_samples, word_ids)\n",
    "    end\n",
    "end"
   ]
  },
  {
   "cell_type": "code",
   "execution_count": 11,
   "id": "6b750191",
   "metadata": {},
   "outputs": [],
   "source": [
    "#Read negative test samples.\n",
    "negative_test_samples = Vector{}()\n",
    "\n",
    "for file in readdir(\".\\\\aclImdb_v1\\\\aclImdb\\\\test\\\\neg\"; join=true)\n",
    "    open(file) do f\n",
    "        text = readline(f)\n",
    "        text = preprocess(text)\n",
    "        text = split(text, \" \")\n",
    "        text = filter((i) -> i != \"\", text)\n",
    "        text = get_n_grams(text, 3)\n",
    "        word_ids = w2i.(text)\n",
    "        push!(negative_test_samples, word_ids)\n",
    "    end\n",
    "end"
   ]
  },
  {
   "cell_type": "code",
   "execution_count": 12,
   "id": "32a5eef7",
   "metadata": {},
   "outputs": [
    {
     "data": {
      "text/plain": [
       "0.5"
      ]
     },
     "execution_count": 12,
     "metadata": {},
     "output_type": "execute_result"
    }
   ],
   "source": [
    "#Class priors\n",
    "q_positive = size(positive_samples)[1] / (size(positive_samples)[1] + size(negative_samples)[1])\n",
    "q_negative = size(negative_samples)[1] / (size(positive_samples)[1] + size(negative_samples)[1])"
   ]
  },
  {
   "cell_type": "code",
   "execution_count": 13,
   "id": "c50c0123",
   "metadata": {},
   "outputs": [],
   "source": [
    "q_x_positive = zeros(length(wdict))\n",
    "q_x_negative = zeros(length(wdict));"
   ]
  },
  {
   "cell_type": "code",
   "execution_count": 14,
   "id": "f2bcf02e",
   "metadata": {},
   "outputs": [],
   "source": [
    "#Use add-one smoothing\n",
    "\n",
    "for i = 1:length(wdict)\n",
    "    q_x_positive[i] += 1\n",
    "    q_x_negative[i] += 1\n",
    "end"
   ]
  },
  {
   "cell_type": "code",
   "execution_count": 15,
   "id": "0820589b",
   "metadata": {},
   "outputs": [],
   "source": [
    "for sentence in positive_samples\n",
    "    for word in sentence\n",
    "        q_x_positive[word] += 1\n",
    "    end\n",
    "end\n",
    "\n",
    "for sentence in negative_samples\n",
    "    for word in sentence\n",
    "        q_x_negative[word] += 1\n",
    "    end\n",
    "end"
   ]
  },
  {
   "cell_type": "code",
   "execution_count": 16,
   "id": "d98cc9c2",
   "metadata": {},
   "outputs": [
    {
     "data": {
      "text/plain": [
       "3395810"
      ]
     },
     "execution_count": 16,
     "metadata": {},
     "output_type": "execute_result"
    }
   ],
   "source": [
    "#Common denominator of the probabilities\n",
    "positive_denominator = length(q_x_positive)\n",
    "negative_denominator = length(q_x_negative)"
   ]
  },
  {
   "cell_type": "code",
   "execution_count": 17,
   "id": "b24c5c7f",
   "metadata": {},
   "outputs": [],
   "source": [
    "#To prevent underflow, take logarithm of the probabilities\n",
    "q_x_positive = log.(q_x_positive)\n",
    "q_x_negative = log.(q_x_negative);"
   ]
  },
  {
   "cell_type": "code",
   "execution_count": 18,
   "id": "169ffbc1",
   "metadata": {},
   "outputs": [],
   "source": [
    "#Since division transforms to subtraction, subtract denominators from the probabilities.\n",
    "q_x_positive = q_x_positive .- positive_denominator\n",
    "q_x_negative = q_x_negative .- negative_denominator;"
   ]
  },
  {
   "cell_type": "code",
   "execution_count": 19,
   "id": "6e28f149",
   "metadata": {},
   "outputs": [],
   "source": [
    "#Testing for positive samples.\n",
    "\n",
    "true_positive_count = 0\n",
    "\n",
    "for sentence in positive_test_samples\n",
    "    positive_score = q_positive\n",
    "    for word in sentence\n",
    "        positive_score += q_x_positive[word]\n",
    "    end\n",
    "    \n",
    "    negative_score = q_negative\n",
    "    for word in sentence\n",
    "        negative_score += q_x_negative[word]\n",
    "    end\n",
    "\n",
    "    if positive_score >= negative_score\n",
    "        true_positive_count +=1\n",
    "    end\n",
    "end"
   ]
  },
  {
   "cell_type": "code",
   "execution_count": 20,
   "id": "494eef40",
   "metadata": {},
   "outputs": [],
   "source": [
    "#Testing for negative samples\n",
    "\n",
    "true_negative_count = 0\n",
    "\n",
    "for sentence in negative_test_samples\n",
    "    positive_score = q_positive\n",
    "    for word in sentence\n",
    "        positive_score += q_x_positive[word]\n",
    "    end\n",
    "    \n",
    "    negative_score = q_negative\n",
    "    for word in sentence\n",
    "        negative_score += q_x_negative[word]\n",
    "    end\n",
    "    if positive_score < negative_score\n",
    "        true_negative_count +=1\n",
    "    end\n",
    "end"
   ]
  },
  {
   "cell_type": "code",
   "execution_count": 21,
   "id": "f5af4577",
   "metadata": {},
   "outputs": [
    {
     "data": {
      "text/plain": [
       "0.73584"
      ]
     },
     "execution_count": 21,
     "metadata": {},
     "output_type": "execute_result"
    }
   ],
   "source": [
    "positive_accuracy = true_positive_count / length(positive_test_samples)"
   ]
  },
  {
   "cell_type": "code",
   "execution_count": 22,
   "id": "b57a1efb",
   "metadata": {},
   "outputs": [
    {
     "data": {
      "text/plain": [
       "0.90792"
      ]
     },
     "execution_count": 22,
     "metadata": {},
     "output_type": "execute_result"
    }
   ],
   "source": [
    "negative_accuracy = true_negative_count / length(negative_test_samples)"
   ]
  },
  {
   "cell_type": "code",
   "execution_count": 23,
   "id": "987a92ba",
   "metadata": {},
   "outputs": [
    {
     "data": {
      "text/plain": [
       "0.8218799999999999"
      ]
     },
     "execution_count": 23,
     "metadata": {},
     "output_type": "execute_result"
    }
   ],
   "source": [
    "(positive_accuracy + negative_accuracy) / 2"
   ]
  }
 ],
 "metadata": {
  "kernelspec": {
   "display_name": "Julia 1.6.3",
   "language": "julia",
   "name": "julia-1.6"
  },
  "language_info": {
   "file_extension": ".jl",
   "mimetype": "application/julia",
   "name": "julia",
   "version": "1.6.3"
  }
 },
 "nbformat": 4,
 "nbformat_minor": 5
}
