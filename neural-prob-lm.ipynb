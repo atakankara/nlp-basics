{
 "cells": [
  {
   "attachments": {},
   "cell_type": "markdown",
   "metadata": {},
   "source": [
    "# A Neural Probabilistic Language Model\n",
    "\n",
    "Reference: Bengio, Y., Ducharme, R., Vincent, P., & Jauvin, C. (2003). A neural probabilistic language model. *Journal of machine learning research, 3*. (Feb), 1137-1155. ([PDF](http://www.jmlr.org/papers/v3/bengio03a.html))"
   ]
  },
  {
   "cell_type": "code",
   "execution_count": 1,
   "metadata": {},
   "outputs": [
    {
     "data": {
      "text/plain": [
       "CuArray{Float32}"
      ]
     },
     "execution_count": 1,
     "metadata": {},
     "output_type": "execute_result"
    }
   ],
   "source": [
    "using Knet, Base.Iterators, IterTools, LinearAlgebra, StatsBase, Test, Random, CUDA\n",
    "macro size(z, s); esc(:(@assert (size($z) == $s) string(summary($z),!=,$s))); end # for debugging\n",
    "Knet.array_type[] = CuArray{Float32}"
   ]
  },
  {
   "cell_type": "markdown",
   "metadata": {},
   "source": [
    "Set `datadir` to the location of ptb on your filesystem. You can find the ptb data in the\n",
    "https://github.com/neubig/nn4nlp-code repo\n",
    "[data](https://github.com/neubig/nn4nlp-code/tree/master/data) directory. The code below\n",
    "clones the nn4nlp-code repo using `git clone https://github.com/neubig/nn4nlp-code.git` if\n",
    "the data directory does not exist."
   ]
  },
  {
   "cell_type": "code",
   "execution_count": 2,
   "metadata": {},
   "outputs": [
    {
     "data": {
      "text/plain": [
       "true"
      ]
     },
     "execution_count": 2,
     "metadata": {},
     "output_type": "execute_result"
    }
   ],
   "source": [
    "const datadir = \"nn4nlp-code/data/ptb\"\n",
    "isdir(datadir) || run(`git clone https://github.com/neubig/nn4nlp-code.git`)"
   ]
  },
  {
   "cell_type": "markdown",
   "metadata": {},
   "source": [
    "## Part 1. Vocabulary\n",
    "\n",
    "In this part we are going to implement a `Vocab` type that will map words to unique integers. The fields of `Vocab` are:\n",
    "* w2i: A dictionary from word strings to integers.\n",
    "* i2w: An array mapping integers to word strings.\n",
    "* unk: The integer id of the unknown word token.\n",
    "* eos: The integer id of the end of sentence token.\n",
    "* tokenizer: The function used to tokenize sentence strings."
   ]
  },
  {
   "cell_type": "code",
   "execution_count": 3,
   "metadata": {},
   "outputs": [],
   "source": [
    "struct Vocab\n",
    "    w2i::Dict{String,Int}\n",
    "    i2w::Vector{String}\n",
    "    unk::Int\n",
    "    eos::Int\n",
    "    tokenizer\n",
    "end"
   ]
  },
  {
   "cell_type": "markdown",
   "metadata": {},
   "source": [
    "### Vocab constructor\n",
    "\n",
    "Implement a constructor for the `Vocab` type. The constructor should take a file path as\n",
    "an argument and create a `Vocab` object with the most frequent words from that file and\n",
    "optionally unk and eos tokens. The keyword arguments are:\n",
    "\n",
    "* tokenizer: The function used to tokenize sentence strings.\n",
    "* vocabsize: Maximum number of words in the vocabulary.\n",
    "* mincount: Minimum count of words in the vocabulary.\n",
    "* unk, eos: unk and eos strings, should be part of the vocabulary unless set to nothing.\n",
    "\n",
    "You may find the following Julia functions useful: `Dict`, `eachline`, `split`, `get`,\n",
    "`delete!`, `sort!`, `keys`, `collect`, `push!`, `pushfirst!`, `findfirst`. You can take\n",
    "look at their documentation using e.g. `@doc eachline`."
   ]
  },
  {
   "cell_type": "code",
   "execution_count": 4,
   "metadata": {},
   "outputs": [
    {
     "data": {
      "text/plain": [
       "Vocab"
      ]
     },
     "execution_count": 4,
     "metadata": {},
     "output_type": "execute_result"
    }
   ],
   "source": [
    "function Vocab(file::String; tokenizer=split, vocabsize=Inf, mincount=1, unk=\"<unk>\", eos=\"<s>\")\n",
    "    # Your code here\n",
    "    counts_dict = Dict{String,Int}()\n",
    "    w2i_dict = Dict{String,Int}()\n",
    "    i2w = Vector{String}()\n",
    "\n",
    "    w2i_function(x) = get!(w2i_dict, x, 1+length(w2i_dict))\n",
    "\n",
    "    for line in eachline(file)\n",
    "        for token in tokenizer(line)\n",
    "            if haskey(counts_dict, token)\n",
    "                counts_dict[token] += 1\n",
    "            else\n",
    "                counts_dict[token] = 1\n",
    "            end\n",
    "        end\n",
    "    end\n",
    "\n",
    "\n",
    "    if haskey(counts_dict, unk); delete!(counts_dict, unk) end\n",
    "    if haskey(counts_dict, eos); delete!(counts_dict, eos) end\n",
    "\n",
    "    for (token, count) in sort!(collect(counts_dict), by=x->x[2], rev=true)[1:Int(min(length(counts_dict), vocabsize-2))]\n",
    "        if count >= mincount\n",
    "            w2i_function(token)\n",
    "            push!(i2w, token)\n",
    "        end\n",
    "    end\n",
    "\n",
    "    w2i_function(unk)\n",
    "    push!(i2w, unk)    \n",
    "    w2i_function(eos)\n",
    "    push!(i2w, eos)    \n",
    "\n",
    "    Vocab(w2i_dict, i2w, w2i_dict[unk], w2i_dict[eos], tokenizer)\n",
    "end"
   ]
  },
  {
   "cell_type": "code",
   "execution_count": 5,
   "metadata": {
    "scrolled": true
   },
   "outputs": [
    {
     "name": "stderr",
     "output_type": "stream",
     "text": [
      "┌ Info: Testing Vocab\n",
      "└ @ Main In[5]:1\n"
     ]
    },
    {
     "data": {
      "text/plain": [
       "\u001b[32m\u001b[1mTest Passed\u001b[22m\u001b[39m\n",
       "  Expression: length((Vocab(f, mincount = 5)).i2w) == 9859\n",
       "   Evaluated: 9859 == 9859"
      ]
     },
     "execution_count": 5,
     "metadata": {},
     "output_type": "execute_result"
    }
   ],
   "source": [
    "@info \"Testing Vocab\"\n",
    "f = \"$datadir/train.txt\"\n",
    "v = Vocab(f)\n",
    "@test all(v.w2i[w] == i for (i,w) in enumerate(v.i2w))\n",
    "@test length(Vocab(f).i2w) == 10000\n",
    "@test length(Vocab(f, vocabsize=1234).i2w) == 1234\n",
    "@test length(Vocab(f, mincount=5).i2w) == 9859"
   ]
  },
  {
   "cell_type": "markdown",
   "metadata": {},
   "source": [
    "We will use the training data as our vocabulary source for the rest of the assignment. It\n",
    "has already been tokenized, lowercased, and words other than the most frequent 10000 have\n",
    "been replaced with `\"<unk>\"`."
   ]
  },
  {
   "cell_type": "code",
   "execution_count": 6,
   "metadata": {},
   "outputs": [
    {
     "data": {
      "text/plain": [
       "Vocab(Dict(\"adviser\" => 1748, \"enjoy\" => 4605, \"advertisements\" => 7824, \"fight\" => 1439, \"nicholas\" => 3781, \"everywhere\" => 6276, \"surveyed\" => 3554, \"helping\" => 2079, \"whose\" => 619, \"manufacture\" => 5050…), [\"the\", \"N\", \"of\", \"to\", \"a\", \"in\", \"and\", \"'s\", \"that\", \"for\"  …  \"memotec\", \"photography\", \"ipo\", \"ssangyong\", \"fromstein\", \"ferc\", \"gitano\", \"daewoo\", \"<unk>\", \"<s>\"], 9999, 10000, split)"
      ]
     },
     "execution_count": 6,
     "metadata": {},
     "output_type": "execute_result"
    }
   ],
   "source": [
    "train_vocab = Vocab(\"$datadir/train.txt\")"
   ]
  },
  {
   "cell_type": "markdown",
   "metadata": {},
   "source": [
    "## Part 2. TextReader\n",
    "\n",
    "Next we will implement `TextReader`, an iterator that reads sentences from a file and\n",
    "returns them as integer arrays using a `Vocab`.  We want to implement `TextReader` as an\n",
    "iterator for scalability. Instead of reading the whole file at once, `TextReader` will\n",
    "give us one sentence at a time as needed (similar to how `eachline` works). This will help\n",
    "us handle very large files in the future."
   ]
  },
  {
   "cell_type": "code",
   "execution_count": 7,
   "metadata": {},
   "outputs": [],
   "source": [
    "struct TextReader\n",
    "    file::String\n",
    "    vocab::Vocab\n",
    "end"
   ]
  },
  {
   "cell_type": "markdown",
   "metadata": {},
   "source": [
    "### iterate\n",
    "\n",
    "The main function to implement for a new iterator is `iterate`. The `iterate` function\n",
    "takes an iterator and optionally a state, and returns a `(nextitem,state)` if the iterator\n",
    "has more items or `nothing` otherwise. A one argument call `iterate(x)` starts the\n",
    "iteration, and a two argument call `iterate(x,state)` continues from where it left off.\n",
    "\n",
    "Here are some sources you may find useful on iterators:\n",
    "\n",
    "* https://github.com/denizyuret/Knet.jl/blob/master/tutorial/25.iterators.ipynb\n",
    "* https://docs.julialang.org/en/v1/manual/interfaces\n",
    "* https://docs.julialang.org/en/v1/base/collections/#lib-collections-iteration-1\n",
    "* https://docs.julialang.org/en/v1/base/iterators\n",
    "* https://docs.julialang.org/en/v1/manual/arrays/#Generator-Expressions-1\n",
    "* https://juliacollections.github.io/IterTools.jl/stable\n",
    "\n",
    "For `TextReader` the state should be an `IOStream` object obtained by `open(file)` at the\n",
    "start of the iteration. When `eof(state)` indicates that end of file is reached, the\n",
    "stream should be closed by `close(state)` and `nothing` should be returned. Otherwise\n",
    "`TextReader` reads the next line from the file using `readline`, tokenizes it, maps each\n",
    "word to its integer id using the vocabulary and returns the resulting integer array\n",
    "(without any eos tokens) and the state."
   ]
  },
  {
   "cell_type": "code",
   "execution_count": 8,
   "metadata": {},
   "outputs": [
    {
     "data": {
      "text/plain": [
       "IOStream(<file nn4nlp-code/data/ptb/train.txt>)"
      ]
     },
     "execution_count": 8,
     "metadata": {},
     "output_type": "execute_result"
    }
   ],
   "source": [
    "s = open(\"$datadir/train.txt\")"
   ]
  },
  {
   "cell_type": "code",
   "execution_count": null,
   "metadata": {},
   "outputs": [],
   "source": [
    "function Base.iterate(r::TextReader, s=nothing)\n",
    "    # Your code here\n",
    "    \n",
    "    if s == nothing\n",
    "        s = open(r.file)\n",
    "    end\n",
    "    \n",
    "    if !eof(s)\n",
    "        return s |> readline |> split |> (x-> [r.vocab.w2i[token] for token in x]), s\n",
    "    else\n",
    "        close(s)\n",
    "        return nothing\n",
    "    end\n",
    "end"
   ]
  },
  {
   "cell_type": "markdown",
   "metadata": {},
   "source": [
    "These are some optional functions that can be defined for iterators. They are required for\n",
    "`collect` to work, which converts an iterator to a regular array."
   ]
  },
  {
   "cell_type": "code",
   "execution_count": 10,
   "metadata": {},
   "outputs": [],
   "source": [
    "Base.IteratorSize(::Type{TextReader}) = Base.SizeUnknown()\n",
    "Base.IteratorEltype(::Type{TextReader}) = Base.HasEltype()\n",
    "Base.eltype(::Type{TextReader}) = Vector{Int}"
   ]
  },
  {
   "cell_type": "code",
   "execution_count": 11,
   "metadata": {},
   "outputs": [
    {
     "name": "stderr",
     "output_type": "stream",
     "text": [
      "┌ Info: Testing TextReader\n",
      "└ @ Main In[11]:1\n"
     ]
    },
    {
     "data": {
      "text/plain": [
       "\u001b[32m\u001b[1mTest Passed\u001b[22m\u001b[39m\n",
       "  Expression: length(collect(test_sentences)) == 3761\n",
       "   Evaluated: 3761 == 3761"
      ]
     },
     "execution_count": 11,
     "metadata": {},
     "output_type": "execute_result"
    }
   ],
   "source": [
    "@info \"Testing TextReader\"\n",
    "train_sentences, valid_sentences, test_sentences =\n",
    "    (TextReader(\"$datadir/$file.txt\", train_vocab) for file in (\"train\",\"valid\",\"test\"))\n",
    "@test length(first(train_sentences)) == 24\n",
    "@test length(collect(train_sentences)) == 42068\n",
    "@test length(collect(valid_sentences)) == 3370\n",
    "@test length(collect(test_sentences)) == 3761"
   ]
  },
  {
   "cell_type": "markdown",
   "metadata": {},
   "source": [
    "## Part 3. Model\n",
    "\n",
    "We are going to first implement some reusable layers for our model. Layers and models are\n",
    "basically functions with associated parameters. Please review [Function-like\n",
    "objects](https://docs.julialang.org/en/v1/manual/methods/#Function-like-objects-1) for how\n",
    "to best define such objects in Julia."
   ]
  },
  {
   "cell_type": "markdown",
   "metadata": {},
   "source": [
    "### Embed\n",
    "\n",
    "`Embed` is a layer that takes an integer or an array of integers as input, uses them as\n",
    "column indices to lookup embeddings in its parameter matrix `w`, and returns these columns\n",
    "packed into an array. If the input size is `(X1,X2,...)`, the output size will be\n",
    "`(C,X1,X2,...)` where C is the columns size of `w` (which Julia will automagically\n",
    "accomplish if you use the right indexing expression). Please review [Array\n",
    "indexing](https://docs.julialang.org/en/v1/manual/arrays/#man-array-indexing-1) and the\n",
    "Knet `param` function to implement this layer."
   ]
  },
  {
   "cell_type": "code",
   "execution_count": 12,
   "metadata": {},
   "outputs": [],
   "source": [
    "struct Embed; w; end\n",
    "\n",
    "function Embed(vocabsize::Int, embedsize::Int)\n",
    "    # Your code here\n",
    "    Embed(param(embedsize, vocabsize, init=xavier))\n",
    "end\n",
    "\n",
    "function (l::Embed)(x)\n",
    "    # Your code here\n",
    "    l.w[:, x]\n",
    "end"
   ]
  },
  {
   "cell_type": "code",
   "execution_count": 13,
   "metadata": {},
   "outputs": [
    {
     "data": {
      "text/plain": [
       "\u001b[32m\u001b[1mTest Passed\u001b[22m\u001b[39m\n",
       "  Expression: size(output) == (10, 2, 3)\n",
       "   Evaluated: (10, 2, 3) == (10, 2, 3)"
      ]
     },
     "execution_count": 13,
     "metadata": {},
     "output_type": "execute_result"
    }
   ],
   "source": [
    "# @info \"Testing Embed\"\n",
    "Random.seed!(1)\n",
    "embed = Embed(100,10)\n",
    "input = rand(1:100, 2, 3)\n",
    "output = embed(input)\n",
    "@test size(output) == (10, 2, 3)\n",
    "#@test norm(output) ≈ 1.0392102f0  #Note: I think my version of julia uses a different random number generator."
   ]
  },
  {
   "cell_type": "markdown",
   "metadata": {},
   "source": [
    "### Linear\n",
    "\n",
    "The `Linear` layer implements an affine transformation of its input: `w*x .+ b`. `w`\n",
    "should be initialized with small random numbers and `b` with zeros. Please review `param`\n",
    "and `param0` functions from Knet for this."
   ]
  },
  {
   "cell_type": "code",
   "execution_count": 14,
   "metadata": {},
   "outputs": [],
   "source": [
    "struct Linear; w; b; end\n",
    "\n",
    "function Linear(inputsize::Int, outputsize::Int)\n",
    "    # Your code here\n",
    "    Linear(param(outputsize, inputsize, init=xavier), param0(outputsize))\n",
    "end\n",
    "\n",
    "function (l::Linear)(x)\n",
    "    # Your code here\n",
    "    l.w*x .+ l.b\n",
    "end"
   ]
  },
  {
   "cell_type": "code",
   "execution_count": 15,
   "metadata": {},
   "outputs": [
    {
     "name": "stderr",
     "output_type": "stream",
     "text": [
      "┌ Info: Testing Linear\n",
      "└ @ Main In[15]:1\n"
     ]
    },
    {
     "data": {
      "text/plain": [
       "\u001b[32m\u001b[1mTest Passed\u001b[22m\u001b[39m\n",
       "  Expression: size(output) == (10, 5)\n",
       "   Evaluated: (10, 5) == (10, 5)"
      ]
     },
     "execution_count": 15,
     "metadata": {},
     "output_type": "execute_result"
    }
   ],
   "source": [
    "@info \"Testing Linear\"\n",
    "Random.seed!(1)\n",
    "linear = Linear(100,10)\n",
    "input = oftype(linear.w, randn(Float32, 100, 5))\n",
    "output = linear(input)\n",
    "@test size(output) == (10, 5)\n",
    "# @test norm(output) ≈ 9.578475f0 #Note: I think my version of julia uses a different random number generator."
   ]
  },
  {
   "cell_type": "markdown",
   "metadata": {},
   "source": [
    "### NNLM\n",
    "\n",
    "`NNLM` is the model object. It has the following fields:\n",
    "* vocab: The `Vocab` object associated with this model.\n",
    "* windowsize: How many words of history the model looks at (ngram order).\n",
    "* embed: An `Embed` layer.\n",
    "* hidden: A `Linear` layer which should be followed by `tanh.` to produce the hidden activations.\n",
    "* output: A `Linear` layer to map hidden activations to vocabulary scores.\n",
    "* dropout: A number between 0 and 1 indicating dropout probability."
   ]
  },
  {
   "cell_type": "code",
   "execution_count": 16,
   "metadata": {},
   "outputs": [],
   "source": [
    "struct NNLM; vocab; windowsize; embed; hidden; output; dropout; end"
   ]
  },
  {
   "cell_type": "markdown",
   "metadata": {},
   "source": [
    "The constructor for `NNLM` takes a vocabulary and various size parameters, returns an\n",
    "`NNLM` object. Remember that the embeddings for `windowsize` words will be concatenated\n",
    "before being fed to the hidden layer."
   ]
  },
  {
   "cell_type": "code",
   "execution_count": 17,
   "metadata": {},
   "outputs": [
    {
     "data": {
      "text/plain": [
       "NNLM"
      ]
     },
     "execution_count": 17,
     "metadata": {},
     "output_type": "execute_result"
    }
   ],
   "source": [
    "function NNLM(vocab::Vocab, windowsize::Int, embedsize::Int, hiddensize::Int, dropout::Real)\n",
    "    # Your code here\n",
    "    NNLM(vocab, \n",
    "        windowsize, \n",
    "        Embed(length(vocab.w2i), embedsize), \n",
    "        Linear(embedsize*windowsize, hiddensize), \n",
    "        Linear(hiddensize, length(vocab.w2i)),\n",
    "        dropout)\n",
    "end"
   ]
  },
  {
   "cell_type": "code",
   "execution_count": 18,
   "metadata": {},
   "outputs": [
    {
     "data": {
      "text/plain": [
       "10000"
      ]
     },
     "execution_count": 18,
     "metadata": {},
     "output_type": "execute_result"
    }
   ],
   "source": [
    "# Default model parameters\n",
    "HIST = 3\n",
    "EMBED = 128\n",
    "HIDDEN = 128\n",
    "DROPOUT = 0.5\n",
    "VOCAB = length(train_vocab.i2w)"
   ]
  },
  {
   "cell_type": "code",
   "execution_count": 19,
   "metadata": {},
   "outputs": [
    {
     "name": "stderr",
     "output_type": "stream",
     "text": [
      "┌ Info: Testing NNLM\n",
      "└ @ Main In[19]:1\n"
     ]
    },
    {
     "data": {
      "text/plain": [
       "\u001b[32m\u001b[1mTest Passed\u001b[22m\u001b[39m\n",
       "  Expression: model.dropout == 0.5\n",
       "   Evaluated: 0.5 == 0.5"
      ]
     },
     "execution_count": 19,
     "metadata": {},
     "output_type": "execute_result"
    }
   ],
   "source": [
    "@info \"Testing NNLM\"\n",
    "model = NNLM(train_vocab, HIST, EMBED, HIDDEN, DROPOUT)\n",
    "@test model.vocab === train_vocab\n",
    "@test model.windowsize === HIST\n",
    "@test size(model.embed.w) == (EMBED,VOCAB)\n",
    "@test size(model.hidden.w) == (HIDDEN,HIST*EMBED)\n",
    "@test size(model.hidden.b) == (HIDDEN,)\n",
    "@test size(model.output.w) == (VOCAB,HIDDEN)\n",
    "@test size(model.output.b) == (VOCAB,)\n",
    "@test model.dropout == 0.5"
   ]
  },
  {
   "cell_type": "markdown",
   "metadata": {},
   "source": [
    "## Part 4. One word at a time\n",
    "\n",
    "Conceptually the easiest way to implement the neural language model is by processing one\n",
    "word at a time. This is also computationally the most expensive, which we will address in\n",
    "upcoming parts."
   ]
  },
  {
   "cell_type": "code",
   "execution_count": 20,
   "metadata": {
    "scrolled": true
   },
   "outputs": [
    {
     "data": {
      "text/plain": [
       "2-element Vector{Vector{Int64}}:\n",
       " [1, 2, 3]\n",
       " [4, 5, 6]"
      ]
     },
     "execution_count": 20,
     "metadata": {},
     "output_type": "execute_result"
    }
   ],
   "source": [
    "A = Vector([[1,2,3], [4,5,6]])\n",
    "# reshape(A, lr)\n",
    "A"
   ]
  },
  {
   "cell_type": "markdown",
   "metadata": {},
   "source": [
    "### pred_v1\n",
    "\n",
    "`pred_v1` takes a model and a `windowsize` length vector of integer word ids indicating the\n",
    "current history, and returns a vocabulary sized vector of scores for the next word. The\n",
    "embeddings of the `windowsize` words are reshaped to a single vector before being fed to the\n",
    "hidden layer. The hidden output is passed through elementwise `tanh` before being fed to\n",
    "the output layer. Dropout is applied to embedding and hidden outputs.\n",
    "\n",
    "Please review Julia functions `vec`, `reshape`, `tanh`, and Knet function `dropout`."
   ]
  },
  {
   "cell_type": "code",
   "execution_count": 21,
   "metadata": {},
   "outputs": [
    {
     "data": {
      "text/plain": [
       "pred_v1 (generic function with 1 method)"
      ]
     },
     "execution_count": 21,
     "metadata": {},
     "output_type": "execute_result"
    }
   ],
   "source": [
    "function pred_v1(m::NNLM, hist::AbstractVector{Int})\n",
    "    @assert length(hist) == m.windowsize\n",
    "    # Your code here\n",
    "    embeddings = dropout(m.embed(hist), m.dropout)\n",
    "    embeddings = vec(embeddings)\n",
    "    hidden = dropout(m.hidden(embeddings), m.dropout)\n",
    "    hidden = tanh.(hidden)\n",
    "    m.output(hidden)\n",
    "end"
   ]
  },
  {
   "cell_type": "code",
   "execution_count": 22,
   "metadata": {},
   "outputs": [
    {
     "name": "stderr",
     "output_type": "stream",
     "text": [
      "┌ Info: Testing pred_v1\n",
      "└ @ Main In[22]:1\n"
     ]
    },
    {
     "data": {
      "text/plain": [
       "\u001b[32m\u001b[1mTest Passed\u001b[22m\u001b[39m\n",
       "  Expression: size(scores_v1(model, sent)) == (length(train_vocab.i2w), length(sent) + 1)\n",
       "   Evaluated: (10000, 25) == (10000, 25)"
      ]
     },
     "execution_count": 22,
     "metadata": {},
     "output_type": "execute_result"
    }
   ],
   "source": [
    "@info \"Testing pred_v1\"\n",
    "h = repeat([model.vocab.eos], model.windowsize)\n",
    "p = pred_v1(model, h)\n",
    "@test size(p) == size(train_vocab.i2w)\n",
    "\n",
    "\n",
    "# This predicts the scores for the whole sentence, will be used for later testing.\n",
    "function scores_v1(model, sent)\n",
    "    hist = repeat([ model.vocab.eos ], model.windowsize)\n",
    "    scores = []\n",
    "    for word in [ sent; model.vocab.eos ]\n",
    "        push!(scores, pred_v1(model, hist))\n",
    "        hist = [ hist[2:end]; word ]\n",
    "    end\n",
    "    hcat(scores...)\n",
    "end\n",
    "\n",
    "sent = first(train_sentences)\n",
    "@test size(scores_v1(model, sent)) == (length(train_vocab.i2w), length(sent)+1)"
   ]
  },
  {
   "cell_type": "markdown",
   "metadata": {},
   "source": [
    "### generate\n",
    "\n",
    "`generate` takes a model `m` and generates a random sentence of maximum length\n",
    "`maxlength`. It initializes a history of `m.windowsize` `m.vocab.eos` tokens. Then it\n",
    "computes the scores for the next word using `pred_v1` and samples a next word using\n",
    "normalized exp of scores as probabilities. It pushes this next word into history and keeps\n",
    "going until `m.vocab.eos` is picked or `maxlength` is reached. It returns a sentence\n",
    "string consisting of concatenated word strings separated by spaces.\n",
    "\n",
    "Please review Julia functions `repeat`, `push!`, `join` and StatsBase function `sample`."
   ]
  },
  {
   "cell_type": "code",
   "execution_count": 23,
   "metadata": {},
   "outputs": [
    {
     "data": {
      "text/plain": [
       "generate (generic function with 1 method)"
      ]
     },
     "execution_count": 23,
     "metadata": {},
     "output_type": "execute_result"
    }
   ],
   "source": [
    "function generate(m::NNLM; maxlength=30)\n",
    "    # Your code here\n",
    "    history = repeat([m.vocab.eos], m.windowsize)\n",
    "    range = 1:length(m.vocab.i2w)\n",
    "    while (length(history) < maxlength+m.windowsize)\n",
    "        scores = pred_v1(m, history[(end-m.windowsize+1):end])\n",
    "        probabilities = softmax(p)\n",
    "        selected_word = wsample(range, probabilities)\n",
    "        \n",
    "        if selected_word == m.vocab.eos; break; end\n",
    "             \n",
    "        push!(history, selected_word)\n",
    "    end\n",
    "    @show join(m.vocab.i2w[history[m.windowsize+1:end]], \" \")\n",
    "end"
   ]
  },
  {
   "cell_type": "code",
   "execution_count": 37,
   "metadata": {},
   "outputs": [
    {
     "name": "stdout",
     "output_type": "stream",
     "text": [
      "join(m.vocab.i2w[history[m.windowsize + 1:end]], \" \") = \"private shown studies turbulence shea\"\n"
     ]
    },
    {
     "name": "stderr",
     "output_type": "stream",
     "text": [
      "┌ Info: Testing generate\n",
      "└ @ Main In[37]:1\n",
      "┌ Warning: Performing scalar indexing on task Task (runnable) @0x000000000d4af460.\n",
      "│ Invocation of getindex resulted in scalar indexing of a GPU array.\n",
      "│ This is typically caused by calling an iterating implementation of a method.\n",
      "│ Such implementations *do not* execute on the GPU, but very slowly on the CPU,\n",
      "│ and therefore are only permitted from the REPL for prototyping purposes.\n",
      "│ If you did intend to index this array, annotate the caller with @allowscalar.\n",
      "└ @ GPUArrays C:\\Users\\atakan\\.julia\\packages\\GPUArrays\\umZob\\src\\host\\indexing.jl:56\n"
     ]
    },
    {
     "data": {
      "text/plain": [
       "\u001b[32m\u001b[1mTest Passed\u001b[22m\u001b[39m\n",
       "  Expression: length(split(s)) <= 5\n",
       "   Evaluated: 5 <= 5"
      ]
     },
     "execution_count": 37,
     "metadata": {},
     "output_type": "execute_result"
    }
   ],
   "source": [
    "@info \"Testing generate\"\n",
    "s = generate(model, maxlength=5)\n",
    "@test s isa String\n",
    "@test length(split(s)) <= 5"
   ]
  },
  {
   "cell_type": "markdown",
   "metadata": {},
   "source": [
    "### loss_v1\n",
    "\n",
    "`loss_v1` computes the negative log likelihood loss given a model `m` and sentence `sent`\n",
    "using `pred_v1`. If `average=true` it returns the per-word average loss, if\n",
    "`average=false` it returns a `(total_loss, num_words)` pair. To compute the loss it starts\n",
    "with a history of `m.windowsize` `m.vocab.eos` tokens like `generate`. Then, for each word\n",
    "in `sent` and a final `eos` token, it computes the scores based on the history, converts\n",
    "them to negative log probabilities, adds the entry corresponding to the current word to\n",
    "the total loss and pushes the current word to history.\n",
    "\n",
    "Please review Julia functions `repeat`, `vcat` and Knet functions `logp`, `nll`."
   ]
  },
  {
   "cell_type": "code",
   "execution_count": 24,
   "metadata": {},
   "outputs": [
    {
     "data": {
      "text/plain": [
       "loss_v1 (generic function with 1 method)"
      ]
     },
     "execution_count": 24,
     "metadata": {},
     "output_type": "execute_result"
    }
   ],
   "source": [
    "function loss_v1(m::NNLM, sent::AbstractVector{Int}; average = true)\n",
    "    # Your code here\n",
    "    history = repeat([m.vocab.eos], m.windowsize)\n",
    "    scores = Matrix(undef, length(m.vocab.i2w), 0)\n",
    "\n",
    "\n",
    "    for word in sent\n",
    "        prediction = pred_v1(m, history[(end-m.windowsize+1):end])\n",
    "        scores = hcat(scores, prediction)                  \n",
    "        push!(history, word)\n",
    "    end\n",
    "        prediction = pred_v1(m, history[(end-m.windowsize+1):end])\n",
    "        scores = hcat(scores, prediction)                  \n",
    "        push!(history, m.vocab.eos)\n",
    "    nll(scores, history[m.windowsize+1:end], average=average)    \n",
    "end"
   ]
  },
  {
   "cell_type": "code",
   "execution_count": null,
   "metadata": {
    "scrolled": true
   },
   "outputs": [],
   "source": [
    "@info \"Testing loss_v1\"\n",
    "s = first(train_sentences)\n",
    "avgloss = loss_v1(model,s)\n",
    "(tot, cnt) = loss_v1(model, s, average = false)\n",
    "@test 9 < avgloss < 10\n",
    "@test cnt == length(s) + 1\n",
    "@test tot/cnt ≈ avgloss"
   ]
  },
  {
   "cell_type": "markdown",
   "metadata": {},
   "source": [
    "### maploss\n",
    "\n",
    "`maploss` takes a loss function `lossfn`, a model `model` and a dataset `data` and returns\n",
    "the average per word negative log likelihood loss if `average=true` or `(total_loss,num_words)`\n",
    "if `average=false`. `data` may be an iterator over sentences (e.g. `TextReader`) or batches\n",
    "of sentences. Computing the loss over a whole dataset is useful to monitor our performance\n",
    "during training."
   ]
  },
  {
   "cell_type": "code",
   "execution_count": 25,
   "metadata": {
    "scrolled": true
   },
   "outputs": [
    {
     "data": {
      "text/plain": [
       "maploss (generic function with 1 method)"
      ]
     },
     "execution_count": 25,
     "metadata": {},
     "output_type": "execute_result"
    }
   ],
   "source": [
    "function maploss(lossfn, model, data; average = true)\n",
    "    # Your code here\n",
    "    \n",
    "    if average == true\n",
    "        return mean(lossfn(model, x, average=average) for x in data)\n",
    "    else\n",
    "        counts = 0\n",
    "        total = 0\n",
    "        for x in data\n",
    "            (tot, cnt) = lossfn(model, x, average = false)\n",
    "            counts += cnt\n",
    "            total += tot\n",
    "        end\n",
    "        \n",
    "        return total, counts\n",
    "    end\n",
    "end"
   ]
  },
  {
   "cell_type": "code",
   "execution_count": null,
   "metadata": {},
   "outputs": [],
   "source": [
    "@info \"Testing maploss\"\n",
    "tst100 = collect(take(test_sentences, 3))\n",
    "avgloss = maploss(loss_v1, model, tst100)\n",
    "@test 9 < avgloss < 10\n",
    "(tot, cnt) = maploss(loss_v1, model, tst100, average = false)\n",
    "@test cnt == length(tst100) + sum(length.(tst100))\n",
    "@test tot/cnt ≈ avgloss"
   ]
  },
  {
   "cell_type": "markdown",
   "metadata": {},
   "source": [
    "### Timing loss_v1\n",
    "\n",
    "Unfortunately processing data one word at a time is not very efficient. The following\n",
    "shows that we can only train about 40-50 sentences per second on a V100 GPU. The training\n",
    "data has 42068 sentences which would take about 1000 seconds or 15 minutes. We probably\n",
    "need 10-100 epochs for convergence which is getting too long for this assignment. Let's\n",
    "see if we can speed things up by processing more data in parallel.\n",
    "\n",
    "Please review Knet function `sgd!` used below as well as iterator functions `collect`,\n",
    "`take`, and [Generator\n",
    "expressions](https://docs.julialang.org/en/v1/manual/arrays/#Generator-Expressions-1)."
   ]
  },
  {
   "cell_type": "code",
   "execution_count": null,
   "metadata": {},
   "outputs": [],
   "source": [
    "@info \"Timing loss_v1 inference with 1000 sentences\"\n",
    "tst1000 = collect(take(test_sentences, 3))\n",
    "GC.gc(true); @time maploss(loss_v1, model, tst1000)\n",
    "\n",
    "@info \"Timing loss_v1 training with 100 sentences\"\n",
    "trn100 = ((model,x) for x in collect(take(train_sentences, 3)))\n",
    "GC.gc(true); @time sgd!(loss_v1, trn100)"
   ]
  },
  {
   "cell_type": "markdown",
   "metadata": {},
   "source": [
    "## Part 5. One sentence at a time\n",
    "\n",
    "We may have to do things one word at a time when generating a sentence, but there is no\n",
    "reason not to do things in parallel for loss calculation. In this part you will implement\n",
    "`pred_v2` and `loss_v2` which do calculations for the whole sentence."
   ]
  },
  {
   "cell_type": "markdown",
   "metadata": {},
   "source": [
    "### pred_v2\n",
    "\n",
    "`pred_v2` takes a model `m`, an N×S array of word ids `hist` and produces a V×S array of\n",
    "scores where N is `m.windowsize`, V is the vocabulary size and `S` is sentence length\n",
    "including the final eos token. The `hist` array has already been padded and shifted such\n",
    "that `hist[:,i]` is the N word context to predict word i. `pred_v2` starts by finding the\n",
    "embeddings for all hist entries at once, a E×N×S array where E is the embedding size. The\n",
    "N embeddings for each context are concatenated by reshaping this array to (E*N)×S. After a\n",
    "dropout step, the hidden layer converts this to an H×S array where H is the hidden\n",
    "size. Following a `tanh` and `dropout`, the output layer produces the final result as a\n",
    "V×S array."
   ]
  },
  {
   "cell_type": "code",
   "execution_count": 26,
   "metadata": {},
   "outputs": [
    {
     "data": {
      "text/plain": [
       "pred_v2 (generic function with 1 method)"
      ]
     },
     "execution_count": 26,
     "metadata": {},
     "output_type": "execute_result"
    }
   ],
   "source": [
    "function pred_v2(m::NNLM, hist::AbstractMatrix{Int})\n",
    "    # Your code here\n",
    "    embeddings = m.embed(hist)\n",
    "    embeddings = reshape(embeddings, size(embeddings)[1]*size(embeddings)[2], size(embeddings)[3])\n",
    "    embeddings = dropout(embeddings, m.dropout)\n",
    "    hidden = m.hidden(embeddings)\n",
    "    hidden = dropout(hidden, m.dropout)\n",
    "    hidden = tanh.(hidden)\n",
    "    output = m.output(hidden)\n",
    "end"
   ]
  },
  {
   "cell_type": "code",
   "execution_count": 27,
   "metadata": {},
   "outputs": [],
   "source": [
    "# N = 3, V=10000, E=128, S=7"
   ]
  },
  {
   "cell_type": "code",
   "execution_count": 28,
   "metadata": {},
   "outputs": [
    {
     "name": "stderr",
     "output_type": "stream",
     "text": [
      "┌ Info: Testing pred_v2\n",
      "└ @ Main In[28]:1\n"
     ]
    },
    {
     "data": {
      "text/plain": [
       "\u001b[32m\u001b[1mTest Passed\u001b[22m\u001b[39m\n",
       "  Expression: s1 ≈ s2\n",
       "   Evaluated: Float32[-0.0011675557 0.00047351123 … 0.0024409355 -0.0010051136; -0.0013269288 -0.0010940348 … -0.0015117463 0.0024592683; … ; 0.0007096453 -0.0021511596 … 0.0036622756 -0.0044405465; -0.0016741096 -0.00020809467 … -0.0008649202 -0.0021010658] ≈ Float32[-0.0011675549 0.0004735106 … 0.002440934 -0.0010051139; -0.0013269284 -0.001094035 … -0.0015117452 0.0024592686; … ; 0.00070964417 -0.0021511596 … 0.0036622768 -0.004440546; -0.0016741096 -0.00020809402 … -0.00086492003 -0.0021010658]"
      ]
     },
     "execution_count": 28,
     "metadata": {},
     "output_type": "execute_result"
    }
   ],
   "source": [
    "@info \"Testing pred_v2\"\n",
    "\n",
    "function scores_v2(model, sent)\n",
    "    hist = [ repeat([ model.vocab.eos ], model.windowsize); sent ]\n",
    "    hist = vcat((hist[i:end+i-model.windowsize]' for i in 1:model.windowsize)...)\n",
    "    @assert size(hist) == (model.windowsize, length(sent)+1)\n",
    "    return pred_v2(model, hist)\n",
    "end\n",
    "\n",
    "sent = first(test_sentences)\n",
    "s1, s2 = scores_v1(model, sent), scores_v2(model, sent)\n",
    "@test size(s1) == size(s2) == (length(train_vocab.i2w), length(sent)+1)\n",
    "@test s1 ≈ s2"
   ]
  },
  {
   "cell_type": "markdown",
   "metadata": {},
   "source": [
    "### loss_v2\n",
    "\n",
    "`loss_v2` computes the negative log likelihood loss given a model `m` and sentence `sent`\n",
    "using `pred_v2`. If `average=true` it returns the per-word average loss, if\n",
    "`average=false` it returns a `(total_loss, num_words)` pair. To compute the loss it\n",
    "constructs a N×S history matrix such that `hist[:,i]` gives the N word context to predict\n",
    "word i where N is `m.windowsize` and S is the sentence length + 1 for the final eos token.\n",
    "Then it computes the scores for all S tokens using `pred_v2`, converts them to negative\n",
    "log probabilities, computes the loss based on the entries for the correct words.\n",
    "\n",
    "Please review the Knet function `nll`."
   ]
  },
  {
   "cell_type": "code",
   "execution_count": 29,
   "metadata": {},
   "outputs": [
    {
     "data": {
      "text/plain": [
       "loss_v1 (generic function with 1 method)"
      ]
     },
     "execution_count": 29,
     "metadata": {},
     "output_type": "execute_result"
    }
   ],
   "source": [
    "function loss_v1(m::NNLM, sent::AbstractVector{Int}; average = true)\n",
    "    # Your code here\n",
    "    history = repeat([m.vocab.eos], m.windowsize)\n",
    "    scores = Matrix(undef, length(m.vocab.i2w), 0)\n",
    "\n",
    "\n",
    "    for word in sent\n",
    "        prediction = pred_v1(m, history[(end-m.windowsize+1):end])\n",
    "        scores = hcat(scores, prediction)                  \n",
    "        push!(history, word)\n",
    "    end\n",
    "        prediction = pred_v1(m, history[(end-m.windowsize+1):end])\n",
    "        scores = hcat(scores, prediction)                  \n",
    "        push!(history, m.vocab.eos)\n",
    "    nll(scores, history[m.windowsize+1:end], average=average)    \n",
    "end"
   ]
  },
  {
   "cell_type": "code",
   "execution_count": 30,
   "metadata": {},
   "outputs": [
    {
     "data": {
      "text/plain": [
       "loss_v2 (generic function with 1 method)"
      ]
     },
     "execution_count": 30,
     "metadata": {},
     "output_type": "execute_result"
    }
   ],
   "source": [
    "function loss_v2(m::NNLM, sent::AbstractVector{Int}; average = true)\n",
    "    # Your code here\n",
    "    hist = [ repeat([ m.vocab.eos ], m.windowsize); sent ]\n",
    "    hist = vcat((hist[i:end+i-m.windowsize]' for i in 1:m.windowsize)...)\n",
    "    predictions = pred_v2(m, hist)\n",
    "    nll(predictions, vcat(sent, m.vocab.eos), average=average)\n",
    "end"
   ]
  },
  {
   "cell_type": "code",
   "execution_count": null,
   "metadata": {},
   "outputs": [],
   "source": [
    "# Your code here\n",
    "hist = [ repeat([ m.vocab.eos ], m.windowsize); sent ]\n",
    "hist = vcat((hist[i:end+i-m.windowsize]' for i in 1:m.windowsize)...)\n",
    "predictions = pred_v2(m, hist)"
   ]
  },
  {
   "cell_type": "code",
   "execution_count": null,
   "metadata": {},
   "outputs": [],
   "source": [
    "@info \"Testing loss_v2\"\n",
    "s = first(test_sentences)\n",
    "@test loss_v1(model, s) ≈ loss_v2(model, s)\n",
    "tst100 = collect(take(test_sentences, 3))\n",
    "@test maploss(loss_v1, model, tst100) ≈ maploss(loss_v2, model, tst100)"
   ]
  },
  {
   "cell_type": "markdown",
   "metadata": {},
   "source": [
    "### Timing loss_v2\n",
    "\n",
    "The following tests show that loss_v2 works about 15-20 times faster than loss_v1 during\n",
    "maploss and training. We can train at 800+ sentences/second on a V100 GPU, which is under\n",
    "a minute per epoch. We could stop here and train a reasonable model, but let's see if we\n",
    "can squeeze a bit more performance by minibatching sentences."
   ]
  },
  {
   "cell_type": "code",
   "execution_count": 53,
   "metadata": {},
   "outputs": [
    {
     "name": "stdout",
     "output_type": "stream",
     "text": [
      "  0.003165 seconds (1.01 k allocations: 51.672 KiB)\n",
      "  9.725260 seconds (32.10 M allocations: 2.433 GiB, 5.13% gc time, 92.08% compilation time)\n"
     ]
    },
    {
     "name": "stderr",
     "output_type": "stream",
     "text": [
      "┌ Info: Timing loss_v2 inference with 10K sentences\n",
      "└ @ Main In[53]:1\n",
      "┌ Info: Timing loss_v2 training with 1000 sentences\n",
      "└ @ Main In[53]:5\n"
     ]
    }
   ],
   "source": [
    "@info \"Timing loss_v2 inference with 10K sentences\"\n",
    "tst10k = collect(take(train_sentences, 3))\n",
    "GC.gc(true); @time maploss(loss_v2, model, tst10k)\n",
    "\n",
    "@info \"Timing loss_v2 training with 1000 sentences\"\n",
    "trn1k = ((model,x) for x in collect(take(train_sentences, 3)))\n",
    "GC.gc(true); @time sgd!(loss_v2, trn1k)"
   ]
  },
  {
   "cell_type": "markdown",
   "metadata": {},
   "source": [
    "## Part 6. Multiple sentences at a time (minibatching)\n",
    "\n",
    "To get even more performance out of a GPU we will process multiple sentences at a\n",
    "time. This is called minibatching and is unfortunately complicated by the fact that the\n",
    "sentences in a batch may not be of the same length. Let's first write the minibatched\n",
    "versions of `pred` and `loss`, and see how to batch sentences together later."
   ]
  },
  {
   "cell_type": "markdown",
   "metadata": {},
   "source": [
    "### pred_v3\n",
    "\n",
    "`pred_v3` takes a model `m`, a N×B×S dimensional history array `hist`, and returns a V×B×S\n",
    "dimensional score array, where N is `m.windowsize`, V is the vocabulary size, B is the batch\n",
    "size, and S is maximum sentence length in the batch + 1 for the final eos token. First,\n",
    "the embeddings for all entries in `hist` are looked up, which results in an array of\n",
    "E×N×B×S where E is the embedding size. The embedding array is reshaped to (E*N)×(B*S) and\n",
    "dropout is applied. It is then fed to the hidden layer which returns a H×(B*S) hidden\n",
    "output where H is the hidden size. Following element-wise tanh and dropout, the output\n",
    "layer turns this into a score array of V×(B*S) which is reshaped and returned as a V×B×S\n",
    "dimensional tensor."
   ]
  },
  {
   "cell_type": "code",
   "execution_count": 31,
   "metadata": {},
   "outputs": [
    {
     "data": {
      "text/plain": [
       "pred_v3 (generic function with 1 method)"
      ]
     },
     "execution_count": 31,
     "metadata": {},
     "output_type": "execute_result"
    }
   ],
   "source": [
    "function pred_v3(m::NNLM, hist::Array{Int})\n",
    "    # Your code here\n",
    "    embeddings = m.embed(hist)\n",
    "    embeddings = reshape(embeddings, size(embeddings)[1]*size(embeddings)[2], size(embeddings)[3]*size(embeddings)[4])\n",
    "    embeddings = dropout(embeddings, m.dropout)\n",
    "    hidden = m.hidden(embeddings)\n",
    "    hidden = dropout(hidden, m.dropout)\n",
    "    hidden = tanh.(hidden)\n",
    "    output = m.output(hidden) # VxBS\n",
    "    reshape(output, size(output)[1], size(hist)[2], size(hist)[3])\n",
    "end"
   ]
  },
  {
   "cell_type": "code",
   "execution_count": 32,
   "metadata": {},
   "outputs": [
    {
     "name": "stderr",
     "output_type": "stream",
     "text": [
      "┌ Info: Testing pred_v3\n",
      "└ @ Main In[32]:1\n"
     ]
    },
    {
     "data": {
      "text/plain": [
       "\u001b[32m\u001b[1mTest Passed\u001b[22m\u001b[39m\n",
       "  Expression: scores_v2(model, sent) ≈ (scores_v3(model, sent))[:, 1, :]\n",
       "   Evaluated: Float32[-0.0011675544 -0.00019178004 … -0.004126494 0.0017582744; -0.0013269293 -0.0009881768 … 0.0020701066 0.005922161; … ; 0.0007096436 -0.0031370022 … -0.003033638 -0.0037834668; -0.0016741091 -0.00037320837 … -0.00027025532 -0.0032595445] ≈ Float32[-0.0011675544 -0.00019178004 … -0.004126494 0.0017582744; -0.0013269293 -0.0009881768 … 0.0020701066 0.005922161; … ; 0.0007096436 -0.0031370022 … -0.003033638 -0.0037834668; -0.0016741091 -0.00037320837 … -0.00027025532 -0.0032595445]"
      ]
     },
     "execution_count": 32,
     "metadata": {},
     "output_type": "execute_result"
    }
   ],
   "source": [
    "@info \"Testing pred_v3\"\n",
    "\n",
    "function scores_v3(model, sent)\n",
    "    hist = [ repeat([ model.vocab.eos ], model.windowsize); sent ]\n",
    "    hist = vcat((hist[i:end+i-model.windowsize]' for i in 1:model.windowsize)...)\n",
    "    @assert size(hist) == (model.windowsize, length(sent)+1)\n",
    "    hist = reshape(hist, size(hist,1), 1, size(hist,2))\n",
    "    return pred_v3(model, hist)\n",
    "end\n",
    "\n",
    "sent = first(train_sentences)\n",
    "@test scores_v2(model, sent) ≈ scores_v3(model, sent)[:,1,:]"
   ]
  },
  {
   "cell_type": "markdown",
   "metadata": {},
   "source": [
    "### mask!\n",
    "\n",
    "`mask!` takes matrix `a` and a pad value `pad`. It replaces all but one of the pads at the\n",
    "end of each row with 0's. This can be used in `loss_v3` for the loss calculation: the Knet\n",
    "`nll` function skips 0's in the answer array."
   ]
  },
  {
   "cell_type": "code",
   "execution_count": 33,
   "metadata": {},
   "outputs": [
    {
     "data": {
      "text/plain": [
       "mask! (generic function with 1 method)"
      ]
     },
     "execution_count": 33,
     "metadata": {},
     "output_type": "execute_result"
    }
   ],
   "source": [
    "function mask!(a,pad)\n",
    "    # Your code here\n",
    "    for r in 1:size(a)[1]\n",
    "        column_length = size(a)[2]\n",
    "        for c in 1:column_length\n",
    "            if a[r, column_length-c+1] != pad\n",
    "                a[r, column_length-c+3:end] .= 0\n",
    "                break\n",
    "            end\n",
    "        end\n",
    "    end\n",
    "    a\n",
    "end"
   ]
  },
  {
   "cell_type": "code",
   "execution_count": 44,
   "metadata": {},
   "outputs": [
    {
     "name": "stderr",
     "output_type": "stream",
     "text": [
      "┌ Info: Testing mask!\n",
      "└ @ Main In[44]:1\n"
     ]
    },
    {
     "data": {
      "text/plain": [
       "\u001b[32m\u001b[1mTest Passed\u001b[22m\u001b[39m\n",
       "  Expression: mask!(a, 1) == [1 2 1 0 0; 2 2 2 1 0; 1 1 2 2 2; 1 1 2 2 1]\n",
       "   Evaluated: [1 2 … 0 0; 2 2 … 1 0; 1 1 … 2 2; 1 1 … 2 1] == [1 2 … 0 0; 2 2 … 1 0; 1 1 … 2 2; 1 1 … 2 1]"
      ]
     },
     "execution_count": 44,
     "metadata": {},
     "output_type": "execute_result"
    }
   ],
   "source": [
    "@info \"Testing mask!\"\n",
    "a = [1 2 1 1 1; 2 2 2 1 1; 1 1 2 2 2; 1 1 2 2 1]\n",
    "@test mask!(a,1) == [1 2 1 0 0; 2 2 2 1 0; 1 1 2 2 2; 1 1 2 2 1]"
   ]
  },
  {
   "cell_type": "code",
   "execution_count": null,
   "metadata": {
    "scrolled": true
   },
   "outputs": [],
   "source": [
    "#loss v2\n",
    "hist = [ repeat([ m.vocab.eos ], m.windowsize); sent ]\n",
    "hist = vcat((hist[i:end+i-m.windowsize]' for i in 1:m.windowsize)...)\n",
    "predictions = pred_v2(m, hist)\n",
    "nll(predictions, vcat(sent, m.vocab.eos), average=true)"
   ]
  },
  {
   "cell_type": "markdown",
   "metadata": {},
   "source": [
    "### loss_v3\n",
    "\n",
    "`loss_v3` computes the negative log likelihood loss given a model `m` and sentence\n",
    "minibatch `batch` using `pred_v3`. If `average=true` it returns the per-word average loss,\n",
    "if `average=false` it returns a `(total_loss, num_words)` pair. The batch array has\n",
    "dimensions B×S where B is the batch size and S is the length of the longest sentence in\n",
    "the batch + 1 for the final eos token. Each row contains the word ids of a sentence padded\n",
    "with eos tokens on the right.  Sentences in a batch may have different lengths. `loss_v3`\n",
    "first constructs a history array of size N×B×S from the batch such that `hist[:,i,j]`\n",
    "gives the N word context to the j'th word of the i'th sentence. This is done by repeating,\n",
    "slicing, concatenating, reshaping and/or using permutedims on the batch array. Next\n",
    "`pred_v3` is used to compute the scores array of size V×B×S where V is the vocabulary\n",
    "size. The correct answers are extracted from the batch to an array of size B×S and the\n",
    "extra padding at the end of each sentence (after the final eos) is masked (extra eos\n",
    "replaced by zeros).  Finally the scores and the masked correct answers are used to compute\n",
    "the negative log likelihood loss using `nll`.\n",
    "\n",
    "Please review array slicing, Julia functions `vcat`, `hcat`, `reshape`, `permutedims`, and\n",
    "the Knet function `nll` for this exercise."
   ]
  },
  {
   "cell_type": "code",
   "execution_count": 34,
   "metadata": {
    "scrolled": false
   },
   "outputs": [
    {
     "data": {
      "text/plain": [
       "loss_v3 (generic function with 1 method)"
      ]
     },
     "execution_count": 34,
     "metadata": {},
     "output_type": "execute_result"
    }
   ],
   "source": [
    "function loss_v3(m::NNLM, batch::AbstractMatrix{Int}; average = true)\n",
    "    N = m.windowsize\n",
    "    B = size(batch)[1]\n",
    "    S = size(batch)[2]\n",
    "    # Your code here\n",
    "    hist = [transpose(repeat([ m.vocab.eos ], m.windowsize, B)) batch]\n",
    "    hist = reshape(vcat((vcat((hist[j, i:end+i-m.windowsize-1]' for i in 1:m.windowsize)...) for j in 1:B)...), N, B, S)\n",
    "    prediction = pred_v3(m, hist)\n",
    "    mask!(batch, m.vocab.eos)\n",
    "    nll(prediction, batch, average=average)\n",
    "end"
   ]
  },
  {
   "cell_type": "code",
   "execution_count": null,
   "metadata": {},
   "outputs": [],
   "source": [
    "N = m.windowsize\n",
    "B = size(batch)[1]\n",
    "S = size(batch)[2]\n",
    "# Your code here\n",
    "mask!(batch, m.vocab.eos)\n",
    "hist = [transpose(repeat([ m.vocab.eos ], m.windowsize, B)) batch]\n",
    "# vcat((vcat((hist[j, i:end+i-m.windowsize-1]' for i in 1:m.windowsize)...) for j in 1:B)...)\n",
    "hist = reshape(vcat((vcat((hist[j, i:end+i-m.windowsize-1]' for i in 1:m.windowsize)...) for j in 1:B)...), N, B, S)\n",
    "prediction = pred_v3(m, hist)\n",
    "mask!(batch, m.vocab.eos)\n",
    "nll(prediction, batch, average=average)\n"
   ]
  },
  {
   "cell_type": "code",
   "execution_count": 35,
   "metadata": {},
   "outputs": [
    {
     "name": "stderr",
     "output_type": "stream",
     "text": [
      "┌ Info: Testing loss_v3\n",
      "└ @ Main In[35]:1\n"
     ]
    },
    {
     "data": {
      "text/plain": [
       "\u001b[32m\u001b[1mTest Passed\u001b[22m\u001b[39m\n",
       "  Expression: loss_v2(model, s) ≈ loss_v3(model, b)\n",
       "   Evaluated: 9.209241f0 ≈ 9.209241f0"
      ]
     },
     "execution_count": 35,
     "metadata": {},
     "output_type": "execute_result"
    }
   ],
   "source": [
    "@info \"Testing loss_v3\"\n",
    "s = first(test_sentences)\n",
    "b = [ s; model.vocab.eos ]'\n",
    "@test loss_v2(model, s) ≈ loss_v3(model, b)"
   ]
  },
  {
   "cell_type": "markdown",
   "metadata": {},
   "source": [
    "### Minibatching\n",
    "\n",
    "Below is a sample implementation of a sequence minibatcher. The `LMData` iterator wraps a\n",
    "TextReader and produces batches of sentences with similar length to minimize padding (too\n",
    "much padding wastes computation). To be able to scale to very large files, we do not want\n",
    "to read the whole file, sort by length etc. Instead `LMData` keeps around a small number\n",
    "of buckets and fills them with similar sized sentences from the TextReader. As soon as one\n",
    "of the buckets reaches the desired batch size it is turned into a matrix with the\n",
    "necessary padding and output. When the TextReader is exhausted the remaining buckets are\n",
    "returned (which may have smaller batch sizes). I will let you figure the rest out from the\n",
    "following, there is no code to write for this part."
   ]
  },
  {
   "cell_type": "code",
   "execution_count": 36,
   "metadata": {},
   "outputs": [],
   "source": [
    "struct LMData\n",
    "    src::TextReader\n",
    "    batchsize::Int\n",
    "    maxlength::Int\n",
    "    bucketwidth::Int\n",
    "    buckets\n",
    "end\n",
    "\n",
    "function LMData(src::TextReader; batchsize = 64, maxlength = typemax(Int), bucketwidth = 10)\n",
    "    numbuckets = min(128, maxlength ÷ bucketwidth)\n",
    "    buckets = [ [] for i in 1:numbuckets ]\n",
    "    LMData(src, batchsize, maxlength, bucketwidth, buckets)\n",
    "end\n",
    "\n",
    "Base.IteratorSize(::Type{LMData}) = Base.SizeUnknown()\n",
    "Base.IteratorEltype(::Type{LMData}) = Base.HasEltype()\n",
    "Base.eltype(::Type{LMData}) = Matrix{Int}\n",
    "\n",
    "function Base.iterate(d::LMData, state=nothing)\n",
    "    if state == nothing\n",
    "        for b in d.buckets; empty!(b); end\n",
    "    end\n",
    "    bucket,ibucket = nothing,nothing\n",
    "    while true\n",
    "        iter = (state === nothing ? iterate(d.src) : iterate(d.src, state))\n",
    "        if iter === nothing\n",
    "            ibucket = findfirst(x -> !isempty(x), d.buckets)\n",
    "            bucket = (ibucket === nothing ? nothing : d.buckets[ibucket])\n",
    "            break\n",
    "        else\n",
    "            sent, state = iter\n",
    "            if length(sent) > d.maxlength || length(sent) == 0; continue; end\n",
    "            ibucket = min(1 + (length(sent)-1) ÷ d.bucketwidth, length(d.buckets))\n",
    "            bucket = d.buckets[ibucket]\n",
    "            push!(bucket, sent)\n",
    "            if length(bucket) === d.batchsize; break; end\n",
    "        end\n",
    "    end\n",
    "    if bucket === nothing; return nothing; end\n",
    "    batchsize = length(bucket)\n",
    "    maxlen = maximum(length.(bucket))\n",
    "    batch = fill(d.src.vocab.eos, batchsize, maxlen + 1)\n",
    "    for i in 1:batchsize\n",
    "        batch[i, 1:length(bucket[i])] = bucket[i]\n",
    "    end\n",
    "    empty!(bucket)\n",
    "    return batch, state\n",
    "end"
   ]
  },
  {
   "cell_type": "markdown",
   "metadata": {},
   "source": [
    "### Timing loss_v3\n",
    "\n",
    "We can compare the speeds of `loss_v2` and `loss_v3` using various batch sizes. Running\n",
    "the following on a V100 suggests that for forward loss calculation, a batchsize around 16\n",
    "gives the best speed."
   ]
  },
  {
   "cell_type": "code",
   "execution_count": 37,
   "metadata": {},
   "outputs": [
    {
     "name": "stdout",
     "output_type": "stream",
     "text": [
      "  3.422369 seconds (1.48 M allocations: 72.544 MiB, 1.44% gc time, 4.57% compilation time)\n",
      "  3.420222 seconds (2.04 M allocations: 103.358 MiB, 1.35% gc time, 7.43% compilation time)\n",
      "  1.518753 seconds (777.79 k allocations: 49.042 MiB, 2.62% gc time, 11.11% compilation time)\n",
      "  1.120388 seconds (400.82 k allocations: 28.637 MiB, 2.49% gc time, 6.40% compilation time)\n",
      "  1.006904 seconds (801.09 k allocations: 51.203 MiB, 2.87% gc time, 21.95% compilation time)\n",
      "  0.840535 seconds (731.27 k allocations: 49.755 MiB, 4.66% gc time, 15.32% compilation time)\n",
      "  0.798028 seconds (655.98 k allocations: 45.731 MiB, 5.23% gc time, 12.42% compilation time)\n",
      "  0.716611 seconds (509.33 k allocations: 37.303 MiB, 6.68% gc time, 10.38% compilation time)\n"
     ]
    },
    {
     "name": "stderr",
     "output_type": "stream",
     "text": [
      "┌ Info: Timing inference for loss_v2 and loss_v3 at various batch sizes\n",
      "└ @ Main In[37]:1\n",
      "┌ Info: loss_v2\n",
      "└ @ Main In[37]:2\n",
      "┌ Info: (loss_v3, 1)\n",
      "└ @ Main In[37]:5\n",
      "┌ Info: (loss_v3, 8)\n",
      "└ @ Main In[37]:5\n",
      "┌ Info: (loss_v3, 16)\n",
      "└ @ Main In[37]:5\n",
      "┌ Info: (loss_v3, 32)\n",
      "└ @ Main In[37]:5\n",
      "┌ Info: (loss_v3, 64)\n",
      "└ @ Main In[37]:5\n",
      "┌ Info: (loss_v3, 128)\n",
      "└ @ Main In[37]:5\n",
      "┌ Info: (loss_v3, 256)\n",
      "└ @ Main In[37]:5\n"
     ]
    }
   ],
   "source": [
    "@info \"Timing inference for loss_v2 and loss_v3 at various batch sizes\"\n",
    "@info loss_v2; test_collect = collect(test_sentences)\n",
    "GC.gc(true); @time p2 = maploss(loss_v2, model, test_collect)\n",
    "for B in (1, 8, 16, 32, 64, 128, 256)\n",
    "    @info loss_v3,B; test_batches_B = collect(LMData(test_sentences, batchsize = B))\n",
    "    GC.gc(true); @time p3 = maploss(loss_v3, model, test_batches_B); @test p3 ≈ p2\n",
    "end"
   ]
  },
  {
   "cell_type": "markdown",
   "metadata": {},
   "source": [
    "For training, a batchsize around 64 seems best, although things are a bit more complicated\n",
    "here: larger batch sizes make fewer updates per epoch which may slow down convergence. We\n",
    "will use the smaller test data to get quick results."
   ]
  },
  {
   "cell_type": "code",
   "execution_count": null,
   "metadata": {},
   "outputs": [],
   "source": [
    "@info \"Timing training for loss_v2 and loss_v3 at various batch sizes\"\n",
    "train(loss, model, data) = sgd!(loss, ((model,sent) for sent in data))\n",
    "@info loss_v2; test_collect = collect(test_sentences)\n",
    "GC.gc(true); @time train(loss_v2, model, test_collect)\n",
    "for B in (1, 8, 16, 32, 64, 128, 256)\n",
    "    @info loss_v3,B; test_batches_B = collect(LMData(test_sentences, batchsize = B))\n",
    "    GC.gc(true); @time train(loss_v3, model, test_batches_B)\n",
    "end"
   ]
  },
  {
   "cell_type": "markdown",
   "metadata": {},
   "source": [
    "## Part 7. Training\n",
    "\n",
    "You should be able to get the validation loss under 5.25 (perplexity under 190) in 100\n",
    "epochs with default parameters.  This takes about 5 minutes on a V100 or T4 GPU.\n",
    "\n",
    "Please review Knet function `progress!` and iterator function `ncycle` used below."
   ]
  },
  {
   "cell_type": "code",
   "execution_count": null,
   "metadata": {},
   "outputs": [],
   "source": [
    "model = NNLM(train_vocab, HIST, EMBED, HIDDEN, DROPOUT)\n",
    "train_batches = collect(LMData(train_sentences))\n",
    "valid_batches = collect(LMData(valid_sentences))\n",
    "test_batches = collect(LMData(test_sentences))\n",
    "train_batches50 = train_batches[1:50] # Small sample for quick loss calculation\n",
    "\n",
    "epoch = adam(loss_v3, ((model, batch) for batch in train_batches))\n",
    "bestmodel, bestloss = deepcopy(model), maploss(loss_v3, model, valid_batches)\n",
    "\n",
    "progress!(ncycle(epoch, 100), seconds=5) do x\n",
    "    global bestmodel, bestloss\n",
    "    # Report gradient norm for the first batch\n",
    "    f = @diff loss_v3(model, train_batches[1])\n",
    "    gnorm = sqrt(sum(norm(grad(f,x))^2 for x in params(model)))\n",
    "    # Report training and validation loss\n",
    "    trnloss = maploss(loss_v3, model, train_batches50)\n",
    "    devloss = maploss(loss_v3, model, valid_batches)\n",
    "    # Save model that does best on validation data\n",
    "    if devloss < bestloss\n",
    "        bestmodel, bestloss = deepcopy(model), devloss\n",
    "    end\n",
    "    (trn=exp(trnloss), dev=exp(devloss), ∇=gnorm)\n",
    "end\n",
    "\n",
    "@info \"Validation perplexity of the best model: $(exp(bestloss))\""
   ]
  },
  {
   "cell_type": "markdown",
   "metadata": {},
   "source": [
    "Now you can generate some original sentences with your trained model:"
   ]
  },
  {
   "cell_type": "code",
   "execution_count": null,
   "metadata": {},
   "outputs": [],
   "source": [
    "# julia> generate(bestmodel)\n",
    "# \"the nasdaq composite index finished at N compared with ual earlier in the statement\"\n",
    "#\n",
    "# julia> generate(bestmodel)\n",
    "# \"in the pentagon joseph r. waertsilae transactions the 1\\\\/2-year transaction was oversubscribed an analyst at <unk>\""
   ]
  },
  {
   "cell_type": "markdown",
   "metadata": {},
   "source": [
    "---\n",
    "\n",
    "*This notebook was generated using [Literate.jl](https://github.com/fredrikekre/Literate.jl).*"
   ]
  }
 ],
 "metadata": {
  "kernelspec": {
   "display_name": "Julia 1.7.2",
   "language": "julia",
   "name": "julia-1.7"
  },
  "language_info": {
   "file_extension": ".jl",
   "mimetype": "application/julia",
   "name": "julia",
   "version": "1.7.2"
  }
 },
 "nbformat": 4,
 "nbformat_minor": 3
}
